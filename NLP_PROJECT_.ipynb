{
  "cells": [
    {
      "cell_type": "code",
      "execution_count": null,
      "metadata": {
        "colab": {
          "base_uri": "https://localhost:8080/"
        },
        "id": "tVsZcLYnFJkW",
        "outputId": "818fa09a-1f0a-4d5a-b105-0e9d9650c67a"
      },
      "outputs": [
        {
          "output_type": "stream",
          "name": "stdout",
          "text": [
            "Mounted at /content/drive\n"
          ]
        }
      ],
      "source": [
        "from google.colab import drive\n",
        "drive.mount('/content/drive')"
      ]
    },
    {
      "cell_type": "code",
      "execution_count": null,
      "metadata": {
        "id": "VqPFhfIpGLh-",
        "colab": {
          "base_uri": "https://localhost:8080/"
        },
        "outputId": "fc87e2b3-be37-4bb3-811e-8906b3fe0ba1"
      },
      "outputs": [
        {
          "output_type": "stream",
          "name": "stdout",
          "text": [
            "\u001b[K     |████████████████████████████████| 135 kB 12.8 MB/s \n",
            "\u001b[K     |████████████████████████████████| 1.6 MB 46.8 MB/s \n",
            "\u001b[?25h"
          ]
        }
      ],
      "source": [
        "pip install -q -U keras-tuner"
      ]
    },
    {
      "cell_type": "code",
      "execution_count": null,
      "metadata": {
        "colab": {
          "base_uri": "https://localhost:8080/"
        },
        "id": "hLp177D2GUZ1",
        "outputId": "f17d978d-a156-44f1-c559-55b8c374965a"
      },
      "outputs": [
        {
          "output_type": "stream",
          "name": "stdout",
          "text": [
            "Looking in indexes: https://pypi.org/simple, https://us-python.pkg.dev/colab-wheels/public/simple/\n",
            "Collecting wget\n",
            "  Downloading wget-3.2.zip (10 kB)\n",
            "Building wheels for collected packages: wget\n",
            "  Building wheel for wget (setup.py) ... \u001b[?25l\u001b[?25hdone\n",
            "  Created wheel for wget: filename=wget-3.2-py3-none-any.whl size=9674 sha256=d652ccd5a3e3d9924a35e1aa88ce383fcadcef9864c0a24ac878b00e64f72376\n",
            "  Stored in directory: /root/.cache/pip/wheels/a1/b6/7c/0e63e34eb06634181c63adacca38b79ff8f35c37e3c13e3c02\n",
            "Successfully built wget\n",
            "Installing collected packages: wget\n",
            "Successfully installed wget-3.2\n"
          ]
        }
      ],
      "source": [
        "pip install wget"
      ]
    },
    {
      "cell_type": "code",
      "execution_count": null,
      "metadata": {
        "colab": {
          "base_uri": "https://localhost:8080/"
        },
        "id": "D7ZWHjeMG3Jm",
        "outputId": "2b1e54d5-1153-4939-d446-31e47764f723"
      },
      "outputs": [
        {
          "output_type": "stream",
          "name": "stdout",
          "text": [
            "Looking in indexes: https://pypi.org/simple, https://us-python.pkg.dev/colab-wheels/public/simple/\n",
            "Requirement already satisfied: tensorflow in /usr/local/lib/python3.7/dist-packages (2.9.2)\n",
            "Requirement already satisfied: tensorflow-io-gcs-filesystem>=0.23.1 in /usr/local/lib/python3.7/dist-packages (from tensorflow) (0.27.0)\n",
            "Requirement already satisfied: protobuf<3.20,>=3.9.2 in /usr/local/lib/python3.7/dist-packages (from tensorflow) (3.17.3)\n",
            "Requirement already satisfied: keras<2.10.0,>=2.9.0rc0 in /usr/local/lib/python3.7/dist-packages (from tensorflow) (2.9.0)\n",
            "Requirement already satisfied: wrapt>=1.11.0 in /usr/local/lib/python3.7/dist-packages (from tensorflow) (1.14.1)\n",
            "Requirement already satisfied: keras-preprocessing>=1.1.1 in /usr/local/lib/python3.7/dist-packages (from tensorflow) (1.1.2)\n",
            "Requirement already satisfied: setuptools in /usr/local/lib/python3.7/dist-packages (from tensorflow) (57.4.0)\n",
            "Requirement already satisfied: astunparse>=1.6.0 in /usr/local/lib/python3.7/dist-packages (from tensorflow) (1.6.3)\n",
            "Requirement already satisfied: six>=1.12.0 in /usr/local/lib/python3.7/dist-packages (from tensorflow) (1.15.0)\n",
            "Requirement already satisfied: numpy>=1.20 in /usr/local/lib/python3.7/dist-packages (from tensorflow) (1.21.6)\n",
            "Requirement already satisfied: flatbuffers<2,>=1.12 in /usr/local/lib/python3.7/dist-packages (from tensorflow) (1.12)\n",
            "Requirement already satisfied: termcolor>=1.1.0 in /usr/local/lib/python3.7/dist-packages (from tensorflow) (2.1.0)\n",
            "Requirement already satisfied: typing-extensions>=3.6.6 in /usr/local/lib/python3.7/dist-packages (from tensorflow) (4.1.1)\n",
            "Requirement already satisfied: tensorboard<2.10,>=2.9 in /usr/local/lib/python3.7/dist-packages (from tensorflow) (2.9.1)\n",
            "Requirement already satisfied: absl-py>=1.0.0 in /usr/local/lib/python3.7/dist-packages (from tensorflow) (1.3.0)\n",
            "Requirement already satisfied: h5py>=2.9.0 in /usr/local/lib/python3.7/dist-packages (from tensorflow) (3.1.0)\n",
            "Requirement already satisfied: google-pasta>=0.1.1 in /usr/local/lib/python3.7/dist-packages (from tensorflow) (0.2.0)\n",
            "Requirement already satisfied: grpcio<2.0,>=1.24.3 in /usr/local/lib/python3.7/dist-packages (from tensorflow) (1.50.0)\n",
            "Requirement already satisfied: libclang>=13.0.0 in /usr/local/lib/python3.7/dist-packages (from tensorflow) (14.0.6)\n",
            "Requirement already satisfied: opt-einsum>=2.3.2 in /usr/local/lib/python3.7/dist-packages (from tensorflow) (3.3.0)\n",
            "Requirement already satisfied: packaging in /usr/local/lib/python3.7/dist-packages (from tensorflow) (21.3)\n",
            "Requirement already satisfied: gast<=0.4.0,>=0.2.1 in /usr/local/lib/python3.7/dist-packages (from tensorflow) (0.4.0)\n",
            "Requirement already satisfied: tensorflow-estimator<2.10.0,>=2.9.0rc0 in /usr/local/lib/python3.7/dist-packages (from tensorflow) (2.9.0)\n",
            "Requirement already satisfied: wheel<1.0,>=0.23.0 in /usr/local/lib/python3.7/dist-packages (from astunparse>=1.6.0->tensorflow) (0.38.1)\n",
            "Requirement already satisfied: cached-property in /usr/local/lib/python3.7/dist-packages (from h5py>=2.9.0->tensorflow) (1.5.2)\n",
            "Requirement already satisfied: google-auth<3,>=1.6.3 in /usr/local/lib/python3.7/dist-packages (from tensorboard<2.10,>=2.9->tensorflow) (1.35.0)\n",
            "Requirement already satisfied: werkzeug>=1.0.1 in /usr/local/lib/python3.7/dist-packages (from tensorboard<2.10,>=2.9->tensorflow) (1.0.1)\n",
            "Requirement already satisfied: markdown>=2.6.8 in /usr/local/lib/python3.7/dist-packages (from tensorboard<2.10,>=2.9->tensorflow) (3.4.1)\n",
            "Requirement already satisfied: google-auth-oauthlib<0.5,>=0.4.1 in /usr/local/lib/python3.7/dist-packages (from tensorboard<2.10,>=2.9->tensorflow) (0.4.6)\n",
            "Requirement already satisfied: tensorboard-plugin-wit>=1.6.0 in /usr/local/lib/python3.7/dist-packages (from tensorboard<2.10,>=2.9->tensorflow) (1.8.1)\n",
            "Requirement already satisfied: requests<3,>=2.21.0 in /usr/local/lib/python3.7/dist-packages (from tensorboard<2.10,>=2.9->tensorflow) (2.23.0)\n",
            "Requirement already satisfied: tensorboard-data-server<0.7.0,>=0.6.0 in /usr/local/lib/python3.7/dist-packages (from tensorboard<2.10,>=2.9->tensorflow) (0.6.1)\n",
            "Requirement already satisfied: rsa<5,>=3.1.4 in /usr/local/lib/python3.7/dist-packages (from google-auth<3,>=1.6.3->tensorboard<2.10,>=2.9->tensorflow) (4.9)\n",
            "Requirement already satisfied: cachetools<5.0,>=2.0.0 in /usr/local/lib/python3.7/dist-packages (from google-auth<3,>=1.6.3->tensorboard<2.10,>=2.9->tensorflow) (4.2.4)\n",
            "Requirement already satisfied: pyasn1-modules>=0.2.1 in /usr/local/lib/python3.7/dist-packages (from google-auth<3,>=1.6.3->tensorboard<2.10,>=2.9->tensorflow) (0.2.8)\n",
            "Requirement already satisfied: requests-oauthlib>=0.7.0 in /usr/local/lib/python3.7/dist-packages (from google-auth-oauthlib<0.5,>=0.4.1->tensorboard<2.10,>=2.9->tensorflow) (1.3.1)\n",
            "Requirement already satisfied: importlib-metadata>=4.4 in /usr/local/lib/python3.7/dist-packages (from markdown>=2.6.8->tensorboard<2.10,>=2.9->tensorflow) (4.13.0)\n",
            "Requirement already satisfied: zipp>=0.5 in /usr/local/lib/python3.7/dist-packages (from importlib-metadata>=4.4->markdown>=2.6.8->tensorboard<2.10,>=2.9->tensorflow) (3.10.0)\n",
            "Requirement already satisfied: pyasn1<0.5.0,>=0.4.6 in /usr/local/lib/python3.7/dist-packages (from pyasn1-modules>=0.2.1->google-auth<3,>=1.6.3->tensorboard<2.10,>=2.9->tensorflow) (0.4.8)\n",
            "Requirement already satisfied: idna<3,>=2.5 in /usr/local/lib/python3.7/dist-packages (from requests<3,>=2.21.0->tensorboard<2.10,>=2.9->tensorflow) (2.10)\n",
            "Requirement already satisfied: urllib3!=1.25.0,!=1.25.1,<1.26,>=1.21.1 in /usr/local/lib/python3.7/dist-packages (from requests<3,>=2.21.0->tensorboard<2.10,>=2.9->tensorflow) (1.24.3)\n",
            "Requirement already satisfied: certifi>=2017.4.17 in /usr/local/lib/python3.7/dist-packages (from requests<3,>=2.21.0->tensorboard<2.10,>=2.9->tensorflow) (2022.9.24)\n",
            "Requirement already satisfied: chardet<4,>=3.0.2 in /usr/local/lib/python3.7/dist-packages (from requests<3,>=2.21.0->tensorboard<2.10,>=2.9->tensorflow) (3.0.4)\n",
            "Requirement already satisfied: oauthlib>=3.0.0 in /usr/local/lib/python3.7/dist-packages (from requests-oauthlib>=0.7.0->google-auth-oauthlib<0.5,>=0.4.1->tensorboard<2.10,>=2.9->tensorflow) (3.2.2)\n",
            "Requirement already satisfied: pyparsing!=3.0.5,>=2.0.2 in /usr/local/lib/python3.7/dist-packages (from packaging->tensorflow) (3.0.9)\n"
          ]
        }
      ],
      "source": [
        "pip install tensorflow"
      ]
    },
    {
      "cell_type": "code",
      "execution_count": null,
      "metadata": {
        "colab": {
          "base_uri": "https://localhost:8080/"
        },
        "id": "vuYMePu1IaHs",
        "outputId": "56475966-6313-4805-9555-d0ec70a6979f"
      },
      "outputs": [
        {
          "output_type": "stream",
          "name": "stdout",
          "text": [
            "Looking in indexes: https://pypi.org/simple, https://us-python.pkg.dev/colab-wheels/public/simple/\n",
            "Requirement already satisfied: keras in /usr/local/lib/python3.7/dist-packages (2.9.0)\n"
          ]
        }
      ],
      "source": [
        "!pip install keras"
      ]
    },
    {
      "cell_type": "code",
      "execution_count": null,
      "metadata": {
        "colab": {
          "base_uri": "https://localhost:8080/"
        },
        "id": "G3R4ToPFIrVA",
        "outputId": "b10f0fb8-b370-4611-a842-d1e9a7988dca"
      },
      "outputs": [
        {
          "output_type": "stream",
          "name": "stdout",
          "text": [
            "Looking in indexes: https://pypi.org/simple, https://us-python.pkg.dev/colab-wheels/public/simple/\n",
            "Collecting optimizers\n",
            "  Downloading Optimizers-v2.1.tar.gz (1.6 kB)\n",
            "Collecting requests>=2.24.0\n",
            "  Downloading requests-2.28.1-py3-none-any.whl (62 kB)\n",
            "\u001b[K     |████████████████████████████████| 62 kB 1.7 MB/s \n",
            "\u001b[?25hRequirement already satisfied: urllib3<1.27,>=1.21.1 in /usr/local/lib/python3.7/dist-packages (from requests>=2.24.0->optimizers) (1.24.3)\n",
            "Requirement already satisfied: certifi>=2017.4.17 in /usr/local/lib/python3.7/dist-packages (from requests>=2.24.0->optimizers) (2022.9.24)\n",
            "Requirement already satisfied: charset-normalizer<3,>=2 in /usr/local/lib/python3.7/dist-packages (from requests>=2.24.0->optimizers) (2.1.1)\n",
            "Requirement already satisfied: idna<4,>=2.5 in /usr/local/lib/python3.7/dist-packages (from requests>=2.24.0->optimizers) (2.10)\n",
            "Building wheels for collected packages: optimizers\n",
            "  Building wheel for optimizers (setup.py) ... \u001b[?25l\u001b[?25hdone\n",
            "  Created wheel for optimizers: filename=Optimizers-2.1-py3-none-any.whl size=2282 sha256=61f83ad22895750cb2ac93abdfcc925d8bf0cb02d8aab138586ab314b4f05101\n",
            "  Stored in directory: /root/.cache/pip/wheels/56/a5/4d/f679a391b5fca0b18c5e2fcd66ebff8900d97d6d95713915b9\n",
            "Successfully built optimizers\n",
            "Installing collected packages: requests, optimizers\n",
            "  Attempting uninstall: requests\n",
            "    Found existing installation: requests 2.23.0\n",
            "    Uninstalling requests-2.23.0:\n",
            "      Successfully uninstalled requests-2.23.0\n",
            "Successfully installed optimizers-2.1 requests-2.28.1\n"
          ]
        }
      ],
      "source": [
        "!pip install optimizers"
      ]
    },
    {
      "cell_type": "code",
      "execution_count": null,
      "metadata": {
        "id": "xPeOS7UfGpkc"
      },
      "outputs": [],
      "source": [
        "import os\n",
        "import string\n",
        "import datetime\n",
        "import gensim\n",
        "import pandas as pd\n",
        "import numpy as np\n",
        "import tensorflow as tf\n",
        "import keras_tuner as kt\n",
        "import tensorflow.keras as keras\n",
        "import matplotlib.image  as mpimg\n",
        "import matplotlib.pyplot as plt\n",
        "import os.path\n",
        "import shutil\n",
        "import wget\n",
        "\n",
        "from sklearn.model_selection import train_test_split\n",
        "from keras.preprocessing.text import Tokenizer\n",
        "from sklearn.metrics import accuracy_score \n",
        "from tensorflow.keras.preprocessing.sequence import pad_sequences\n",
        "from keras.layers import Input,concatenate,Activation, Dense, Dropout, Embedding, Flatten,Bidirectional, LSTM\n",
        "from keras.models import Model\n",
        "from keras.initializers import Constant\n",
        "from tensorflow.keras.optimizers import Adam\n",
        "\n",
        "\n",
        "\n",
        "def plot_graphs(history, metric):\n",
        "  plt.plot(history.history[metric])\n",
        "  plt.plot(history.history['val_'+metric], '')\n",
        "  plt.xlabel(\"Epochs\")\n",
        "  plt.ylabel(metric)\n",
        "  plt.legend([metric, 'val_'+metric])"
      ]
    },
    {
      "cell_type": "code",
      "execution_count": null,
      "metadata": {
        "id": "-JgNqI2RKwLP"
      },
      "outputs": [],
      "source": [
        "\n",
        "pd.set_option('display.max_colwidth',100)"
      ]
    },
    {
      "cell_type": "markdown",
      "metadata": {
        "id": "bxIqPNYeK67L"
      },
      "source": [
        "Dataset import and features selection"
      ]
    },
    {
      "cell_type": "code",
      "execution_count": null,
      "metadata": {
        "colab": {
          "base_uri": "https://localhost:8080/",
          "height": 652
        },
        "id": "1BAUh-46K8dR",
        "outputId": "bde8b191-aff3-45b1-b2f2-c848400e7875"
      },
      "outputs": [
        {
          "output_type": "stream",
          "name": "stdout",
          "text": [
            "Downloading DB to train\n",
            "Download Completed!\n",
            "Unzipping...\n"
          ]
        },
        {
          "output_type": "stream",
          "name": "stderr",
          "text": [
            "/usr/local/lib/python3.7/dist-packages/IPython/core/interactiveshell.py:3326: FutureWarning: The error_bad_lines argument has been deprecated and will be removed in a future version.\n",
            "\n",
            "\n",
            "  exec(code_obj, self.user_global_ns, self.user_ns)\n"
          ]
        },
        {
          "output_type": "execute_result",
          "data": {
            "text/plain": [
              "   DOC_ID       LABEL  RATING VERIFIED_PURCHASE PRODUCT_CATEGORY  PRODUCT_ID  \\\n",
              "0       1  __label1__       4                 N               PC  B00008NG7N   \n",
              "1       2  __label1__       4                 Y         Wireless  B00LH0Y3NM   \n",
              "2       3  __label1__       3                 N             Baby  B000I5UZ1Q   \n",
              "3       4  __label1__       4                 N  Office Products  B003822IRA   \n",
              "4       5  __label1__       4                 N           Beauty  B00PWSAXAM   \n",
              "\n",
              "                                                                                         PRODUCT_TITLE  \\\n",
              "0                                                          Targus PAUK10U Ultra Mini USB Keypad, Black   \n",
              "1  Note 3 Battery : Stalion Strength Replacement 3200mAh Li-Ion Battery for Samsung Galaxy Note 3 [...   \n",
              "2                                                         Fisher-Price Papasan Cradle Swing, Starlight   \n",
              "3                                                    Casio MS-80B Standard Function Desktop Calculator   \n",
              "4                              Shine Whitening - Zero Peroxide Teeth Whitening System - No Sensitivity   \n",
              "\n",
              "               REVIEW_TITLE  \\\n",
              "0                    useful   \n",
              "1     New era for batteries   \n",
              "2  doesn't swing very well.   \n",
              "3          Great computing!   \n",
              "4     Only use twice a week   \n",
              "\n",
              "                                                                                           REVIEW_TEXT  \n",
              "0  When least you think so, this product will save the day. Just keep it around just in case you ne...  \n",
              "1  Lithium batteries are something new introduced in the market there average developing cost is re...  \n",
              "2  I purchased this swing for my baby. She is 6 months now and has pretty much out grown it. It is ...  \n",
              "3  I was looking for an inexpensive desk calcolatur and here it is. It works and does everything I ...  \n",
              "4  I only use it twice a week and the results are great. I have used other teeth whitening solution...  "
            ],
            "text/html": [
              "\n",
              "  <div id=\"df-6c0f6adc-5c56-4728-a81c-0ae8eae1051d\">\n",
              "    <div class=\"colab-df-container\">\n",
              "      <div>\n",
              "<style scoped>\n",
              "    .dataframe tbody tr th:only-of-type {\n",
              "        vertical-align: middle;\n",
              "    }\n",
              "\n",
              "    .dataframe tbody tr th {\n",
              "        vertical-align: top;\n",
              "    }\n",
              "\n",
              "    .dataframe thead th {\n",
              "        text-align: right;\n",
              "    }\n",
              "</style>\n",
              "<table border=\"1\" class=\"dataframe\">\n",
              "  <thead>\n",
              "    <tr style=\"text-align: right;\">\n",
              "      <th></th>\n",
              "      <th>DOC_ID</th>\n",
              "      <th>LABEL</th>\n",
              "      <th>RATING</th>\n",
              "      <th>VERIFIED_PURCHASE</th>\n",
              "      <th>PRODUCT_CATEGORY</th>\n",
              "      <th>PRODUCT_ID</th>\n",
              "      <th>PRODUCT_TITLE</th>\n",
              "      <th>REVIEW_TITLE</th>\n",
              "      <th>REVIEW_TEXT</th>\n",
              "    </tr>\n",
              "  </thead>\n",
              "  <tbody>\n",
              "    <tr>\n",
              "      <th>0</th>\n",
              "      <td>1</td>\n",
              "      <td>__label1__</td>\n",
              "      <td>4</td>\n",
              "      <td>N</td>\n",
              "      <td>PC</td>\n",
              "      <td>B00008NG7N</td>\n",
              "      <td>Targus PAUK10U Ultra Mini USB Keypad, Black</td>\n",
              "      <td>useful</td>\n",
              "      <td>When least you think so, this product will save the day. Just keep it around just in case you ne...</td>\n",
              "    </tr>\n",
              "    <tr>\n",
              "      <th>1</th>\n",
              "      <td>2</td>\n",
              "      <td>__label1__</td>\n",
              "      <td>4</td>\n",
              "      <td>Y</td>\n",
              "      <td>Wireless</td>\n",
              "      <td>B00LH0Y3NM</td>\n",
              "      <td>Note 3 Battery : Stalion Strength Replacement 3200mAh Li-Ion Battery for Samsung Galaxy Note 3 [...</td>\n",
              "      <td>New era for batteries</td>\n",
              "      <td>Lithium batteries are something new introduced in the market there average developing cost is re...</td>\n",
              "    </tr>\n",
              "    <tr>\n",
              "      <th>2</th>\n",
              "      <td>3</td>\n",
              "      <td>__label1__</td>\n",
              "      <td>3</td>\n",
              "      <td>N</td>\n",
              "      <td>Baby</td>\n",
              "      <td>B000I5UZ1Q</td>\n",
              "      <td>Fisher-Price Papasan Cradle Swing, Starlight</td>\n",
              "      <td>doesn't swing very well.</td>\n",
              "      <td>I purchased this swing for my baby. She is 6 months now and has pretty much out grown it. It is ...</td>\n",
              "    </tr>\n",
              "    <tr>\n",
              "      <th>3</th>\n",
              "      <td>4</td>\n",
              "      <td>__label1__</td>\n",
              "      <td>4</td>\n",
              "      <td>N</td>\n",
              "      <td>Office Products</td>\n",
              "      <td>B003822IRA</td>\n",
              "      <td>Casio MS-80B Standard Function Desktop Calculator</td>\n",
              "      <td>Great computing!</td>\n",
              "      <td>I was looking for an inexpensive desk calcolatur and here it is. It works and does everything I ...</td>\n",
              "    </tr>\n",
              "    <tr>\n",
              "      <th>4</th>\n",
              "      <td>5</td>\n",
              "      <td>__label1__</td>\n",
              "      <td>4</td>\n",
              "      <td>N</td>\n",
              "      <td>Beauty</td>\n",
              "      <td>B00PWSAXAM</td>\n",
              "      <td>Shine Whitening - Zero Peroxide Teeth Whitening System - No Sensitivity</td>\n",
              "      <td>Only use twice a week</td>\n",
              "      <td>I only use it twice a week and the results are great. I have used other teeth whitening solution...</td>\n",
              "    </tr>\n",
              "  </tbody>\n",
              "</table>\n",
              "</div>\n",
              "      <button class=\"colab-df-convert\" onclick=\"convertToInteractive('df-6c0f6adc-5c56-4728-a81c-0ae8eae1051d')\"\n",
              "              title=\"Convert this dataframe to an interactive table.\"\n",
              "              style=\"display:none;\">\n",
              "        \n",
              "  <svg xmlns=\"http://www.w3.org/2000/svg\" height=\"24px\"viewBox=\"0 0 24 24\"\n",
              "       width=\"24px\">\n",
              "    <path d=\"M0 0h24v24H0V0z\" fill=\"none\"/>\n",
              "    <path d=\"M18.56 5.44l.94 2.06.94-2.06 2.06-.94-2.06-.94-.94-2.06-.94 2.06-2.06.94zm-11 1L8.5 8.5l.94-2.06 2.06-.94-2.06-.94L8.5 2.5l-.94 2.06-2.06.94zm10 10l.94 2.06.94-2.06 2.06-.94-2.06-.94-.94-2.06-.94 2.06-2.06.94z\"/><path d=\"M17.41 7.96l-1.37-1.37c-.4-.4-.92-.59-1.43-.59-.52 0-1.04.2-1.43.59L10.3 9.45l-7.72 7.72c-.78.78-.78 2.05 0 2.83L4 21.41c.39.39.9.59 1.41.59.51 0 1.02-.2 1.41-.59l7.78-7.78 2.81-2.81c.8-.78.8-2.07 0-2.86zM5.41 20L4 18.59l7.72-7.72 1.47 1.35L5.41 20z\"/>\n",
              "  </svg>\n",
              "      </button>\n",
              "      \n",
              "  <style>\n",
              "    .colab-df-container {\n",
              "      display:flex;\n",
              "      flex-wrap:wrap;\n",
              "      gap: 12px;\n",
              "    }\n",
              "\n",
              "    .colab-df-convert {\n",
              "      background-color: #E8F0FE;\n",
              "      border: none;\n",
              "      border-radius: 50%;\n",
              "      cursor: pointer;\n",
              "      display: none;\n",
              "      fill: #1967D2;\n",
              "      height: 32px;\n",
              "      padding: 0 0 0 0;\n",
              "      width: 32px;\n",
              "    }\n",
              "\n",
              "    .colab-df-convert:hover {\n",
              "      background-color: #E2EBFA;\n",
              "      box-shadow: 0px 1px 2px rgba(60, 64, 67, 0.3), 0px 1px 3px 1px rgba(60, 64, 67, 0.15);\n",
              "      fill: #174EA6;\n",
              "    }\n",
              "\n",
              "    [theme=dark] .colab-df-convert {\n",
              "      background-color: #3B4455;\n",
              "      fill: #D2E3FC;\n",
              "    }\n",
              "\n",
              "    [theme=dark] .colab-df-convert:hover {\n",
              "      background-color: #434B5C;\n",
              "      box-shadow: 0px 1px 3px 1px rgba(0, 0, 0, 0.15);\n",
              "      filter: drop-shadow(0px 1px 2px rgba(0, 0, 0, 0.3));\n",
              "      fill: #FFFFFF;\n",
              "    }\n",
              "  </style>\n",
              "\n",
              "      <script>\n",
              "        const buttonEl =\n",
              "          document.querySelector('#df-6c0f6adc-5c56-4728-a81c-0ae8eae1051d button.colab-df-convert');\n",
              "        buttonEl.style.display =\n",
              "          google.colab.kernel.accessAllowed ? 'block' : 'none';\n",
              "\n",
              "        async function convertToInteractive(key) {\n",
              "          const element = document.querySelector('#df-6c0f6adc-5c56-4728-a81c-0ae8eae1051d');\n",
              "          const dataTable =\n",
              "            await google.colab.kernel.invokeFunction('convertToInteractive',\n",
              "                                                     [key], {});\n",
              "          if (!dataTable) return;\n",
              "\n",
              "          const docLinkHtml = 'Like what you see? Visit the ' +\n",
              "            '<a target=\"_blank\" href=https://colab.research.google.com/notebooks/data_table.ipynb>data table notebook</a>'\n",
              "            + ' to learn more about interactive tables.';\n",
              "          element.innerHTML = '';\n",
              "          dataTable['output_type'] = 'display_data';\n",
              "          await google.colab.output.renderOutput(dataTable, element);\n",
              "          const docLink = document.createElement('div');\n",
              "          docLink.innerHTML = docLinkHtml;\n",
              "          element.appendChild(docLink);\n",
              "        }\n",
              "      </script>\n",
              "    </div>\n",
              "  </div>\n",
              "  "
            ]
          },
          "metadata": {},
          "execution_count": 9
        }
      ],
      "source": [
        "\n",
        "if not os.path.isfile('amazon_reviews.txt'):\n",
        "    url = 'https://drive.google.com/uc?id=1-LYI_s6oZ0OTe3I0vFYRYIBVhjFswReY&export=download'\n",
        "    print('Downloading DB to train')\n",
        "    wget.download(url)\n",
        "    print('Download Completed!\\nUnzipping...')\n",
        "    shutil.unpack_archive('amazon_reviews.zip')\n",
        "else:\n",
        "   print(\"The dataset is already downloaded\")   \n",
        "\n",
        "df = pd.read_csv('amazon_reviews.txt', error_bad_lines=False, delimiter=\"\\t\")\n",
        "df.head()"
      ]
    },
    {
      "cell_type": "code",
      "execution_count": null,
      "metadata": {
        "colab": {
          "base_uri": "https://localhost:8080/",
          "height": 206
        },
        "id": "EnlBLwVVlc1x",
        "outputId": "12b0eaa9-b574-43ec-ee23-e47aeeee4bd0"
      },
      "outputs": [
        {
          "output_type": "execute_result",
          "data": {
            "text/plain": [
              "                                                                                           REVIEW_TEXT  \\\n",
              "0  When least you think so, this product will save the day. Just keep it around just in case you ne...   \n",
              "1  Lithium batteries are something new introduced in the market there average developing cost is re...   \n",
              "2  I purchased this swing for my baby. She is 6 months now and has pretty much out grown it. It is ...   \n",
              "3  I was looking for an inexpensive desk calcolatur and here it is. It works and does everything I ...   \n",
              "4  I only use it twice a week and the results are great. I have used other teeth whitening solution...   \n",
              "\n",
              "   RATING       LABEL VERIFIED_PURCHASE  \n",
              "0       4  __label1__                 N  \n",
              "1       4  __label1__                 Y  \n",
              "2       3  __label1__                 N  \n",
              "3       4  __label1__                 N  \n",
              "4       4  __label1__                 N  "
            ],
            "text/html": [
              "\n",
              "  <div id=\"df-6d36949a-79d0-435b-9801-7b0a46682266\">\n",
              "    <div class=\"colab-df-container\">\n",
              "      <div>\n",
              "<style scoped>\n",
              "    .dataframe tbody tr th:only-of-type {\n",
              "        vertical-align: middle;\n",
              "    }\n",
              "\n",
              "    .dataframe tbody tr th {\n",
              "        vertical-align: top;\n",
              "    }\n",
              "\n",
              "    .dataframe thead th {\n",
              "        text-align: right;\n",
              "    }\n",
              "</style>\n",
              "<table border=\"1\" class=\"dataframe\">\n",
              "  <thead>\n",
              "    <tr style=\"text-align: right;\">\n",
              "      <th></th>\n",
              "      <th>REVIEW_TEXT</th>\n",
              "      <th>RATING</th>\n",
              "      <th>LABEL</th>\n",
              "      <th>VERIFIED_PURCHASE</th>\n",
              "    </tr>\n",
              "  </thead>\n",
              "  <tbody>\n",
              "    <tr>\n",
              "      <th>0</th>\n",
              "      <td>When least you think so, this product will save the day. Just keep it around just in case you ne...</td>\n",
              "      <td>4</td>\n",
              "      <td>__label1__</td>\n",
              "      <td>N</td>\n",
              "    </tr>\n",
              "    <tr>\n",
              "      <th>1</th>\n",
              "      <td>Lithium batteries are something new introduced in the market there average developing cost is re...</td>\n",
              "      <td>4</td>\n",
              "      <td>__label1__</td>\n",
              "      <td>Y</td>\n",
              "    </tr>\n",
              "    <tr>\n",
              "      <th>2</th>\n",
              "      <td>I purchased this swing for my baby. She is 6 months now and has pretty much out grown it. It is ...</td>\n",
              "      <td>3</td>\n",
              "      <td>__label1__</td>\n",
              "      <td>N</td>\n",
              "    </tr>\n",
              "    <tr>\n",
              "      <th>3</th>\n",
              "      <td>I was looking for an inexpensive desk calcolatur and here it is. It works and does everything I ...</td>\n",
              "      <td>4</td>\n",
              "      <td>__label1__</td>\n",
              "      <td>N</td>\n",
              "    </tr>\n",
              "    <tr>\n",
              "      <th>4</th>\n",
              "      <td>I only use it twice a week and the results are great. I have used other teeth whitening solution...</td>\n",
              "      <td>4</td>\n",
              "      <td>__label1__</td>\n",
              "      <td>N</td>\n",
              "    </tr>\n",
              "  </tbody>\n",
              "</table>\n",
              "</div>\n",
              "      <button class=\"colab-df-convert\" onclick=\"convertToInteractive('df-6d36949a-79d0-435b-9801-7b0a46682266')\"\n",
              "              title=\"Convert this dataframe to an interactive table.\"\n",
              "              style=\"display:none;\">\n",
              "        \n",
              "  <svg xmlns=\"http://www.w3.org/2000/svg\" height=\"24px\"viewBox=\"0 0 24 24\"\n",
              "       width=\"24px\">\n",
              "    <path d=\"M0 0h24v24H0V0z\" fill=\"none\"/>\n",
              "    <path d=\"M18.56 5.44l.94 2.06.94-2.06 2.06-.94-2.06-.94-.94-2.06-.94 2.06-2.06.94zm-11 1L8.5 8.5l.94-2.06 2.06-.94-2.06-.94L8.5 2.5l-.94 2.06-2.06.94zm10 10l.94 2.06.94-2.06 2.06-.94-2.06-.94-.94-2.06-.94 2.06-2.06.94z\"/><path d=\"M17.41 7.96l-1.37-1.37c-.4-.4-.92-.59-1.43-.59-.52 0-1.04.2-1.43.59L10.3 9.45l-7.72 7.72c-.78.78-.78 2.05 0 2.83L4 21.41c.39.39.9.59 1.41.59.51 0 1.02-.2 1.41-.59l7.78-7.78 2.81-2.81c.8-.78.8-2.07 0-2.86zM5.41 20L4 18.59l7.72-7.72 1.47 1.35L5.41 20z\"/>\n",
              "  </svg>\n",
              "      </button>\n",
              "      \n",
              "  <style>\n",
              "    .colab-df-container {\n",
              "      display:flex;\n",
              "      flex-wrap:wrap;\n",
              "      gap: 12px;\n",
              "    }\n",
              "\n",
              "    .colab-df-convert {\n",
              "      background-color: #E8F0FE;\n",
              "      border: none;\n",
              "      border-radius: 50%;\n",
              "      cursor: pointer;\n",
              "      display: none;\n",
              "      fill: #1967D2;\n",
              "      height: 32px;\n",
              "      padding: 0 0 0 0;\n",
              "      width: 32px;\n",
              "    }\n",
              "\n",
              "    .colab-df-convert:hover {\n",
              "      background-color: #E2EBFA;\n",
              "      box-shadow: 0px 1px 2px rgba(60, 64, 67, 0.3), 0px 1px 3px 1px rgba(60, 64, 67, 0.15);\n",
              "      fill: #174EA6;\n",
              "    }\n",
              "\n",
              "    [theme=dark] .colab-df-convert {\n",
              "      background-color: #3B4455;\n",
              "      fill: #D2E3FC;\n",
              "    }\n",
              "\n",
              "    [theme=dark] .colab-df-convert:hover {\n",
              "      background-color: #434B5C;\n",
              "      box-shadow: 0px 1px 3px 1px rgba(0, 0, 0, 0.15);\n",
              "      filter: drop-shadow(0px 1px 2px rgba(0, 0, 0, 0.3));\n",
              "      fill: #FFFFFF;\n",
              "    }\n",
              "  </style>\n",
              "\n",
              "      <script>\n",
              "        const buttonEl =\n",
              "          document.querySelector('#df-6d36949a-79d0-435b-9801-7b0a46682266 button.colab-df-convert');\n",
              "        buttonEl.style.display =\n",
              "          google.colab.kernel.accessAllowed ? 'block' : 'none';\n",
              "\n",
              "        async function convertToInteractive(key) {\n",
              "          const element = document.querySelector('#df-6d36949a-79d0-435b-9801-7b0a46682266');\n",
              "          const dataTable =\n",
              "            await google.colab.kernel.invokeFunction('convertToInteractive',\n",
              "                                                     [key], {});\n",
              "          if (!dataTable) return;\n",
              "\n",
              "          const docLinkHtml = 'Like what you see? Visit the ' +\n",
              "            '<a target=\"_blank\" href=https://colab.research.google.com/notebooks/data_table.ipynb>data table notebook</a>'\n",
              "            + ' to learn more about interactive tables.';\n",
              "          element.innerHTML = '';\n",
              "          dataTable['output_type'] = 'display_data';\n",
              "          await google.colab.output.renderOutput(dataTable, element);\n",
              "          const docLink = document.createElement('div');\n",
              "          docLink.innerHTML = docLinkHtml;\n",
              "          element.appendChild(docLink);\n",
              "        }\n",
              "      </script>\n",
              "    </div>\n",
              "  </div>\n",
              "  "
            ]
          },
          "metadata": {},
          "execution_count": 10
        }
      ],
      "source": [
        "features = [\"REVIEW_TEXT\", \"RATING\", \"LABEL\", \"VERIFIED_PURCHASE\"]\n",
        "df = df[features]\n",
        "df.head()"
      ]
    },
    {
      "cell_type": "markdown",
      "metadata": {
        "id": "Z0GyEOk513-q"
      },
      "source": [
        "Data pre-processing"
      ]
    },
    {
      "cell_type": "code",
      "execution_count": null,
      "metadata": {
        "id": "AF3UMi1m107f"
      },
      "outputs": [],
      "source": [
        "\n",
        "df['LABEL'] = pd.Categorical(df['LABEL'])\n",
        "df['LABEL'] = df['LABEL'].cat.codes"
      ]
    },
    {
      "cell_type": "code",
      "execution_count": null,
      "metadata": {
        "id": "VidhR0s61833"
      },
      "outputs": [],
      "source": [
        "\n",
        "df['VERIFIED_PURCHASE'] = pd.Categorical(df['VERIFIED_PURCHASE'])\n",
        "df['VERIFIED_PURCHASE'] = df['VERIFIED_PURCHASE'].cat.codes"
      ]
    },
    {
      "cell_type": "code",
      "execution_count": null,
      "metadata": {
        "id": "pbuFOILt1_U7"
      },
      "outputs": [],
      "source": [
        "def remove_punctuation(txt):\n",
        " \n",
        "  text_lower = \"\".join([c.lower() for c in txt])\n",
        "  \n",
        "  txt_nonpunct = \"\".join([c for c in text_lower if c not in string.punctuation])\n",
        "  return txt_nonpunct"
      ]
    },
    {
      "cell_type": "code",
      "source": [
        "import seaborn as sns\n",
        "import matplotlib.pyplot as plt\n",
        "sns.countplot(df.LABEL)\n",
        "plt.title(\"frequency of both labels\")"
      ],
      "metadata": {
        "colab": {
          "base_uri": "https://localhost:8080/",
          "height": 367
        },
        "id": "NA6zJDM1Ap74",
        "outputId": "03354cb5-2bf9-4215-fab1-5f4d55b0ed06"
      },
      "execution_count": null,
      "outputs": [
        {
          "output_type": "stream",
          "name": "stderr",
          "text": [
            "/usr/local/lib/python3.7/dist-packages/seaborn/_decorators.py:43: FutureWarning: Pass the following variable as a keyword arg: x. From version 0.12, the only valid positional argument will be `data`, and passing other arguments without an explicit keyword will result in an error or misinterpretation.\n",
            "  FutureWarning\n"
          ]
        },
        {
          "output_type": "execute_result",
          "data": {
            "text/plain": [
              "Text(0.5, 1.0, 'frequency of both labels')"
            ]
          },
          "metadata": {},
          "execution_count": 14
        },
        {
          "output_type": "display_data",
          "data": {
            "text/plain": [
              "<Figure size 432x288 with 1 Axes>"
            ],
            "image/png": "[encoded data removed]"
          },
          "metadata": {
            "needs_background": "light"
          }
        }
      ]
    },
    {
      "cell_type": "code",
      "execution_count": null,
      "metadata": {
        "id": "a_YI8TaY2B9K"
      },
      "outputs": [],
      "source": [
        "\n",
        "df['REVIEW_TEXT'] = df['REVIEW_TEXT'].apply(lambda x: remove_punctuation(x))"
      ]
    },
    {
      "cell_type": "code",
      "execution_count": null,
      "metadata": {
        "colab": {
          "base_uri": "https://localhost:8080/",
          "height": 206
        },
        "id": "bqLNkwWu2EfW",
        "outputId": "7d6cbec7-9926-482f-a8ae-6989fd03eb56"
      },
      "outputs": [
        {
          "output_type": "execute_result",
          "data": {
            "text/plain": [
              "                                                                                           REVIEW_TEXT  \\\n",
              "0  when least you think so this product will save the day just keep it around just in case you need...   \n",
              "1  lithium batteries are something new introduced in the market there average developing cost is re...   \n",
              "2  i purchased this swing for my baby she is 6 months now and has pretty much out grown it it is ve...   \n",
              "3  i was looking for an inexpensive desk calcolatur and here it is it works and does everything i n...   \n",
              "4  i only use it twice a week and the results are great i have used other teeth whitening solutions...   \n",
              "\n",
              "   RATING  LABEL  VERIFIED_PURCHASE  \n",
              "0       4      0                  0  \n",
              "1       4      0                  1  \n",
              "2       3      0                  0  \n",
              "3       4      0                  0  \n",
              "4       4      0                  0  "
            ],
            "text/html": [
              "\n",
              "  <div id=\"df-ffed5680-c475-480a-8973-9024b26e850e\">\n",
              "    <div class=\"colab-df-container\">\n",
              "      <div>\n",
              "<style scoped>\n",
              "    .dataframe tbody tr th:only-of-type {\n",
              "        vertical-align: middle;\n",
              "    }\n",
              "\n",
              "    .dataframe tbody tr th {\n",
              "        vertical-align: top;\n",
              "    }\n",
              "\n",
              "    .dataframe thead th {\n",
              "        text-align: right;\n",
              "    }\n",
              "</style>\n",
              "<table border=\"1\" class=\"dataframe\">\n",
              "  <thead>\n",
              "    <tr style=\"text-align: right;\">\n",
              "      <th></th>\n",
              "      <th>REVIEW_TEXT</th>\n",
              "      <th>RATING</th>\n",
              "      <th>LABEL</th>\n",
              "      <th>VERIFIED_PURCHASE</th>\n",
              "    </tr>\n",
              "  </thead>\n",
              "  <tbody>\n",
              "    <tr>\n",
              "      <th>0</th>\n",
              "      <td>when least you think so this product will save the day just keep it around just in case you need...</td>\n",
              "      <td>4</td>\n",
              "      <td>0</td>\n",
              "      <td>0</td>\n",
              "    </tr>\n",
              "    <tr>\n",
              "      <th>1</th>\n",
              "      <td>lithium batteries are something new introduced in the market there average developing cost is re...</td>\n",
              "      <td>4</td>\n",
              "      <td>0</td>\n",
              "      <td>1</td>\n",
              "    </tr>\n",
              "    <tr>\n",
              "      <th>2</th>\n",
              "      <td>i purchased this swing for my baby she is 6 months now and has pretty much out grown it it is ve...</td>\n",
              "      <td>3</td>\n",
              "      <td>0</td>\n",
              "      <td>0</td>\n",
              "    </tr>\n",
              "    <tr>\n",
              "      <th>3</th>\n",
              "      <td>i was looking for an inexpensive desk calcolatur and here it is it works and does everything i n...</td>\n",
              "      <td>4</td>\n",
              "      <td>0</td>\n",
              "      <td>0</td>\n",
              "    </tr>\n",
              "    <tr>\n",
              "      <th>4</th>\n",
              "      <td>i only use it twice a week and the results are great i have used other teeth whitening solutions...</td>\n",
              "      <td>4</td>\n",
              "      <td>0</td>\n",
              "      <td>0</td>\n",
              "    </tr>\n",
              "  </tbody>\n",
              "</table>\n",
              "</div>\n",
              "      <button class=\"colab-df-convert\" onclick=\"convertToInteractive('df-ffed5680-c475-480a-8973-9024b26e850e')\"\n",
              "              title=\"Convert this dataframe to an interactive table.\"\n",
              "              style=\"display:none;\">\n",
              "        \n",
              "  <svg xmlns=\"http://www.w3.org/2000/svg\" height=\"24px\"viewBox=\"0 0 24 24\"\n",
              "       width=\"24px\">\n",
              "    <path d=\"M0 0h24v24H0V0z\" fill=\"none\"/>\n",
              "    <path d=\"M18.56 5.44l.94 2.06.94-2.06 2.06-.94-2.06-.94-.94-2.06-.94 2.06-2.06.94zm-11 1L8.5 8.5l.94-2.06 2.06-.94-2.06-.94L8.5 2.5l-.94 2.06-2.06.94zm10 10l.94 2.06.94-2.06 2.06-.94-2.06-.94-.94-2.06-.94 2.06-2.06.94z\"/><path d=\"M17.41 7.96l-1.37-1.37c-.4-.4-.92-.59-1.43-.59-.52 0-1.04.2-1.43.59L10.3 9.45l-7.72 7.72c-.78.78-.78 2.05 0 2.83L4 21.41c.39.39.9.59 1.41.59.51 0 1.02-.2 1.41-.59l7.78-7.78 2.81-2.81c.8-.78.8-2.07 0-2.86zM5.41 20L4 18.59l7.72-7.72 1.47 1.35L5.41 20z\"/>\n",
              "  </svg>\n",
              "      </button>\n",
              "      \n",
              "  <style>\n",
              "    .colab-df-container {\n",
              "      display:flex;\n",
              "      flex-wrap:wrap;\n",
              "      gap: 12px;\n",
              "    }\n",
              "\n",
              "    .colab-df-convert {\n",
              "      background-color: #E8F0FE;\n",
              "      border: none;\n",
              "      border-radius: 50%;\n",
              "      cursor: pointer;\n",
              "      display: none;\n",
              "      fill: #1967D2;\n",
              "      height: 32px;\n",
              "      padding: 0 0 0 0;\n",
              "      width: 32px;\n",
              "    }\n",
              "\n",
              "    .colab-df-convert:hover {\n",
              "      background-color: #E2EBFA;\n",
              "      box-shadow: 0px 1px 2px rgba(60, 64, 67, 0.3), 0px 1px 3px 1px rgba(60, 64, 67, 0.15);\n",
              "      fill: #174EA6;\n",
              "    }\n",
              "\n",
              "    [theme=dark] .colab-df-convert {\n",
              "      background-color: #3B4455;\n",
              "      fill: #D2E3FC;\n",
              "    }\n",
              "\n",
              "    [theme=dark] .colab-df-convert:hover {\n",
              "      background-color: #434B5C;\n",
              "      box-shadow: 0px 1px 3px 1px rgba(0, 0, 0, 0.15);\n",
              "      filter: drop-shadow(0px 1px 2px rgba(0, 0, 0, 0.3));\n",
              "      fill: #FFFFFF;\n",
              "    }\n",
              "  </style>\n",
              "\n",
              "      <script>\n",
              "        const buttonEl =\n",
              "          document.querySelector('#df-ffed5680-c475-480a-8973-9024b26e850e button.colab-df-convert');\n",
              "        buttonEl.style.display =\n",
              "          google.colab.kernel.accessAllowed ? 'block' : 'none';\n",
              "\n",
              "        async function convertToInteractive(key) {\n",
              "          const element = document.querySelector('#df-ffed5680-c475-480a-8973-9024b26e850e');\n",
              "          const dataTable =\n",
              "            await google.colab.kernel.invokeFunction('convertToInteractive',\n",
              "                                                     [key], {});\n",
              "          if (!dataTable) return;\n",
              "\n",
              "          const docLinkHtml = 'Like what you see? Visit the ' +\n",
              "            '<a target=\"_blank\" href=https://colab.research.google.com/notebooks/data_table.ipynb>data table notebook</a>'\n",
              "            + ' to learn more about interactive tables.';\n",
              "          element.innerHTML = '';\n",
              "          dataTable['output_type'] = 'display_data';\n",
              "          await google.colab.output.renderOutput(dataTable, element);\n",
              "          const docLink = document.createElement('div');\n",
              "          docLink.innerHTML = docLinkHtml;\n",
              "          element.appendChild(docLink);\n",
              "        }\n",
              "      </script>\n",
              "    </div>\n",
              "  </div>\n",
              "  "
            ]
          },
          "metadata": {},
          "execution_count": 96
        }
      ],
      "source": [
        "df.head()"
      ]
    },
    {
      "cell_type": "code",
      "execution_count": null,
      "metadata": {
        "id": "cZYGCKXL3Sgn"
      },
      "outputs": [],
      "source": [
        "\n",
        "train_size=0.8\n",
        "\n",
        "X = df.copy()\n",
        "\n",
        "\n",
        "X_train, X_rem= train_test_split(X, train_size=train_size)\n",
        "\n",
        "\n",
        "test_size = 0.5\n",
        "X_valid, X_test = train_test_split(X_rem, test_size=0.5)"
      ]
    },
    {
      "cell_type": "code",
      "execution_count": null,
      "metadata": {
        "id": "ZU5x3VA23Zsw"
      },
      "outputs": [],
      "source": [
        "\n",
        "train_rating = X_train.pop('RATING')\n",
        "valid_rating = X_valid.pop('RATING')\n",
        "test_rating = X_test.pop('RATING')\n",
        "\n",
        "\n",
        "train_pursh = X_train.pop('VERIFIED_PURCHASE')\n",
        "valid_pursh = X_valid.pop('VERIFIED_PURCHASE')\n",
        "test_pursh = X_test.pop('VERIFIED_PURCHASE')\n",
        "\n",
        "\n",
        "train_target = X_train.pop('LABEL')\n",
        "valid_target = X_valid.pop('LABEL')\n",
        "test_target = X_test.pop('LABEL')"
      ]
    },
    {
      "cell_type": "code",
      "execution_count": null,
      "metadata": {
        "id": "J0GwriomE4YS"
      },
      "outputs": [],
      "source": [
        "oov_token = \"<OOV>\"\n",
        "max_length = 100\n",
        "padding_type = \"post\"\n",
        "trunction_type=\"post\""
      ]
    },
    {
      "cell_type": "code",
      "execution_count": null,
      "metadata": {
        "colab": {
          "base_uri": "https://localhost:8080/"
        },
        "id": "Ba4V8n3HE7-d",
        "outputId": "2d444709-7b12-4860-dcc8-ff75a6547a93"
      },
      "outputs": [
        {
          "output_type": "stream",
          "name": "stdout",
          "text": [
            "Vocab Size is  40911\n"
          ]
        }
      ],
      "source": [
        "tokenizer = Tokenizer(oov_token=oov_token)\n",
        "tokenizer.fit_on_texts(X_train.REVIEW_TEXT)\n",
        "vocab_size = len(tokenizer.word_index)+1\n",
        "print('Vocab Size is ',vocab_size)"
      ]
    },
    {
      "cell_type": "code",
      "source": [],
      "metadata": {
        "id": "mY-ihn6eAmj3"
      },
      "execution_count": null,
      "outputs": []
    },
    {
      "cell_type": "code",
      "execution_count": null,
      "metadata": {
        "id": "s-qT5Os7FBA7"
      },
      "outputs": [],
      "source": [
        "\n",
        "X_train_sequences = tokenizer.texts_to_sequences(X_train.REVIEW_TEXT)\n",
        "X_train_padded = pad_sequences(X_train_sequences,maxlen=max_length, padding=padding_type, \n",
        "                       truncating=trunction_type)\n",
        "\n",
        "\n",
        "X_val_sequences = tokenizer.texts_to_sequences(X_valid.REVIEW_TEXT)\n",
        "X_val_padded = pad_sequences(X_val_sequences,maxlen=max_length, \n",
        "                               padding=padding_type, truncating=trunction_type)\n",
        "\n",
        "\n",
        "X_test_sequences = tokenizer.texts_to_sequences(X_test.REVIEW_TEXT)\n",
        "X_test_padded = pad_sequences(X_test_sequences,maxlen=max_length, \n",
        "                               padding=padding_type, truncating=trunction_type)"
      ]
    },
    {
      "cell_type": "markdown",
      "metadata": {
        "id": "41lF1GcBFHff"
      },
      "source": [
        "Pre-Trained word embeddings - Word2Vec"
      ]
    },
    {
      "cell_type": "code",
      "execution_count": null,
      "metadata": {
        "id": "h1gtI7OZFIwk"
      },
      "outputs": [],
      "source": [
        "documents = []\n",
        "# We split each text of the \"REVIEW_TEXT\" column\n",
        "for _text in X_train.REVIEW_TEXT:    \n",
        "    documents.append((_text.split(\" \")))"
      ]
    },
    {
      "cell_type": "code",
      "execution_count": null,
      "metadata": {
        "id": "6THnpU12FOdD"
      },
      "outputs": [],
      "source": [
        "W2V_SIZE = 100\n",
        "W2V_WINDOW = 7\n",
        "W2V_EPOCH = 64\n",
        "W2V_MIN_COUNT = 5\n",
        "W2V_SG = 1 \n",
        "\n",
        "\n",
        "w2v_model = gensim.models.word2vec.Word2Vec(size=W2V_SIZE, \n",
        "                                            sg = W2V_SG,\n",
        "                                            window=W2V_WINDOW, \n",
        "                                            min_count=W2V_MIN_COUNT,\n",
        "                                            workers=8)\n",
        "\n",
        "\n",
        "w2v_model.build_vocab(documents)"
      ]
    },
    {
      "cell_type": "code",
      "execution_count": null,
      "metadata": {
        "id": "Mmz5bBn9Firs",
        "colab": {
          "base_uri": "https://localhost:8080/"
        },
        "outputId": "def0fddb-2a65-41cd-8bc8-3c0133582aae"
      },
      "outputs": [
        {
          "output_type": "execute_result",
          "data": {
            "text/plain": [
              "(51976345, 75172992)"
            ]
          },
          "metadata": {},
          "execution_count": 104
        }
      ],
      "source": [
        "\n",
        "w2v_model.train(documents, total_examples=len(documents), epochs=W2V_EPOCH)"
      ]
    },
    {
      "cell_type": "code",
      "execution_count": null,
      "metadata": {
        "colab": {
          "base_uri": "https://localhost:8080/"
        },
        "id": "NI-ETbTDFuag",
        "outputId": "c936b04b-cae0-42ae-d16c-37c1216bfb17"
      },
      "outputs": [
        {
          "output_type": "execute_result",
          "data": {
            "text/plain": [
              "[('good', 0.5183528065681458),\n",
              " ('poor', 0.5037727952003479),\n",
              " ('stink', 0.4789120554924011),\n",
              " ('disappointing', 0.4728483557701111),\n",
              " ('ripping', 0.4645020067691803),\n",
              " ('terrible', 0.4584123492240906),\n",
              " ('horrible', 0.4580979645252228),\n",
              " ('worse', 0.4569457471370697),\n",
              " ('sucks', 0.4446253180503845),\n",
              " ('but', 0.43943509459495544)]"
            ]
          },
          "metadata": {},
          "execution_count": 105
        }
      ],
      "source": [
        "\n",
        "w2v_model.wv.most_similar(\"bad\")"
      ]
    },
    {
      "cell_type": "code",
      "execution_count": null,
      "metadata": {
        "colab": {
          "base_uri": "https://localhost:8080/"
        },
        "id": "MvFRXkuRm8F2",
        "outputId": "41af2e4d-b119-4d2c-e661-b240c62ff7e5"
      },
      "outputs": [
        {
          "output_type": "stream",
          "name": "stdout",
          "text": [
            "(40911, 100)\n"
          ]
        }
      ],
      "source": [
        "\n",
        "embedding_matrix = np.zeros((vocab_size , W2V_SIZE))\n",
        "for word , i in tokenizer.word_index.items():\n",
        "    if word in w2v_model.wv:\n",
        "        embedding_matrix[i] = w2v_model.wv[word]\n",
        "print(embedding_matrix.shape)"
      ]
    },
    {
      "cell_type": "markdown",
      "metadata": {
        "id": "no6R_gT_nG-4"
      },
      "source": [
        "The model"
      ]
    },
    {
      "cell_type": "code",
      "execution_count": null,
      "metadata": {
        "id": "NO2n2v8GnJx_"
      },
      "outputs": [],
      "source": [
        "embedding_layer = Embedding(len(tokenizer.word_index) + 1,\n",
        "                            max_length,\n",
        "                            embeddings_initializer= Constant(embedding_matrix),\n",
        "                            trainable=False)"
      ]
    },
    {
      "cell_type": "code",
      "execution_count": null,
      "metadata": {
        "id": "m__p1etlnO-9"
      },
      "outputs": [],
      "source": [
        "review_branch_ip = Input(shape=(100,), name='Review_input')\n",
        "review_branch = embedding_layer(review_branch_ip)\n",
        "review_branch = Dropout(0.2)(review_branch)\n",
        "review_branch = Bidirectional(\n",
        "    LSTM(64, dropout=0.2,recurrent_dropout=0)\n",
        ")(review_branch)\n",
        "review_branch = Dense(64,activation='relu')(review_branch)\n",
        "review_branch_op = Dense(16, activation='relu')(review_branch)\n",
        "\n",
        "\n",
        "rating_branch_ip = Input(shape=(1,), name='Rating_input')\n",
        "rating_branch = Dense(8,activation='relu')(rating_branch_ip)\n",
        "rating_branch = Dropout(0.2)(rating_branch)\n",
        "rating_branch_op = Dense(16,activation='relu')(rating_branch)\n",
        "\n",
        "\n",
        "\n",
        "\n",
        "verified_purchase_branch_ip = Input(shape=(1,), name='Verified_Purchase_input')\n",
        "verified_purchase_branch = Dense(8,activation='relu')(verified_purchase_branch_ip)\n",
        "verified_purchase_branch = Dropout(0.2)(verified_purchase_branch)\n",
        "verified_purchase_branch_op = Dense(16,activation='relu')(verified_purchase_branch)\n",
        "\n",
        "\n",
        "concat = concatenate([review_branch_op, rating_branch_op, verified_purchase_branch_op], name='Concatenate')\n",
        "\n",
        "\n",
        "final_op = Dense(8, activation='relu')(concat)\n",
        "final_output = Dense(1,activation='sigmoid')(final_op)\n",
        "\n",
        "model = Model(inputs=[review_branch_ip,rating_branch_ip,verified_purchase_branch_ip], outputs=final_output,\n",
        "                  name='Final_output')"
      ]
    },
    {
      "cell_type": "code",
      "execution_count": null,
      "metadata": {
        "id": "6yBqrLoRnP5R"
      },
      "outputs": [],
      "source": [
        "\n",
        "model.compile(optimizer=Adam(clipvalue=0.5) , \n",
        "              loss='binary_crossentropy', \n",
        "              metrics=['acc'])"
      ]
    },
    {
      "cell_type": "code",
      "execution_count": null,
      "metadata": {
        "colab": {
          "base_uri": "https://localhost:8080/"
        },
        "id": "BtNn7l8lnSuf",
        "outputId": "02bbaff5-bb18-4554-b8a2-cbe88c43c45c"
      },
      "outputs": [
        {
          "output_type": "stream",
          "name": "stdout",
          "text": [
            "Model: \"Final_output\"\n",
            "__________________________________________________________________________________________________\n",
            " Layer (type)                   Output Shape         Param #     Connected to                     \n",
            "==================================================================================================\n",
            " Review_input (InputLayer)      [(None, 100)]        0           []                               \n",
            "                                                                                                  \n",
            " embedding (Embedding)          (None, 100, 100)     4091100     ['Review_input[0][0]']           \n",
            "                                                                                                  \n",
            " dropout_3 (Dropout)            (None, 100, 100)     0           ['embedding[0][0]']              \n",
            "                                                                                                  \n",
            " Rating_input (InputLayer)      [(None, 1)]          0           []                               \n",
            "                                                                                                  \n",
            " Verified_Purchase_input (Input  [(None, 1)]         0           []                               \n",
            " Layer)                                                                                           \n",
            "                                                                                                  \n",
            " bidirectional_1 (Bidirectional  (None, 128)         84480       ['dropout_3[0][0]']              \n",
            " )                                                                                                \n",
            "                                                                                                  \n",
            " dense_10 (Dense)               (None, 8)            16          ['Rating_input[0][0]']           \n",
            "                                                                                                  \n",
            " dense_12 (Dense)               (None, 8)            16          ['Verified_Purchase_input[0][0]']\n",
            "                                                                                                  \n",
            " dense_8 (Dense)                (None, 64)           8256        ['bidirectional_1[0][0]']        \n",
            "                                                                                                  \n",
            " dropout_4 (Dropout)            (None, 8)            0           ['dense_10[0][0]']               \n",
            "                                                                                                  \n",
            " dropout_5 (Dropout)            (None, 8)            0           ['dense_12[0][0]']               \n",
            "                                                                                                  \n",
            " dense_9 (Dense)                (None, 16)           1040        ['dense_8[0][0]']                \n",
            "                                                                                                  \n",
            " dense_11 (Dense)               (None, 16)           144         ['dropout_4[0][0]']              \n",
            "                                                                                                  \n",
            " dense_13 (Dense)               (None, 16)           144         ['dropout_5[0][0]']              \n",
            "                                                                                                  \n",
            " Concatenate (Concatenate)      (None, 48)           0           ['dense_9[0][0]',                \n",
            "                                                                  'dense_11[0][0]',               \n",
            "                                                                  'dense_13[0][0]']               \n",
            "                                                                                                  \n",
            " dense_14 (Dense)               (None, 8)            392         ['Concatenate[0][0]']            \n",
            "                                                                                                  \n",
            " dense_15 (Dense)               (None, 1)            9           ['dense_14[0][0]']               \n",
            "                                                                                                  \n",
            "==================================================================================================\n",
            "Total params: 4,185,597\n",
            "Trainable params: 94,497\n",
            "Non-trainable params: 4,091,100\n",
            "__________________________________________________________________________________________________\n"
          ]
        }
      ],
      "source": [
        "\n",
        "model.summary()"
      ]
    },
    {
      "cell_type": "code",
      "execution_count": null,
      "metadata": {
        "colab": {
          "base_uri": "https://localhost:8080/"
        },
        "id": "E7vRd18AnZAt",
        "outputId": "f78a2911-5424-4e32-bf1a-1919fa13a053"
      },
      "outputs": [
        {
          "output_type": "stream",
          "name": "stdout",
          "text": [
            "Epoch 1/20\n",
            "525/525 [==============================] - 54s 95ms/step - loss: 0.5581 - acc: 0.7515 - val_loss: 0.4920 - val_acc: 0.7962\n",
            "Epoch 2/20\n",
            "525/525 [==============================] - 49s 93ms/step - loss: 0.4864 - acc: 0.7839 - val_loss: 0.4738 - val_acc: 0.8029\n",
            "Epoch 3/20\n",
            "525/525 [==============================] - 49s 93ms/step - loss: 0.4649 - acc: 0.7971 - val_loss: 0.4532 - val_acc: 0.8138\n",
            "Epoch 4/20\n",
            "525/525 [==============================] - 49s 93ms/step - loss: 0.4611 - acc: 0.7989 - val_loss: 0.4517 - val_acc: 0.8062\n",
            "Epoch 5/20\n",
            "525/525 [==============================] - 49s 93ms/step - loss: 0.4491 - acc: 0.8068 - val_loss: 0.4432 - val_acc: 0.8138\n",
            "Epoch 6/20\n",
            "525/525 [==============================] - 49s 93ms/step - loss: 0.4401 - acc: 0.8116 - val_loss: 0.4528 - val_acc: 0.8057\n",
            "Epoch 7/20\n",
            "525/525 [==============================] - 49s 93ms/step - loss: 0.4362 - acc: 0.8118 - val_loss: 0.4432 - val_acc: 0.8105\n",
            "Epoch 8/20\n",
            "525/525 [==============================] - 49s 94ms/step - loss: 0.4276 - acc: 0.8182 - val_loss: 0.4357 - val_acc: 0.8181\n",
            "Epoch 9/20\n",
            "525/525 [==============================] - 50s 95ms/step - loss: 0.4200 - acc: 0.8227 - val_loss: 0.4401 - val_acc: 0.8162\n",
            "Epoch 10/20\n",
            "525/525 [==============================] - 50s 95ms/step - loss: 0.4162 - acc: 0.8254 - val_loss: 0.4383 - val_acc: 0.8233\n",
            "Epoch 11/20\n",
            "525/525 [==============================] - 50s 95ms/step - loss: 0.4041 - acc: 0.8276 - val_loss: 0.4449 - val_acc: 0.8110\n"
          ]
        }
      ],
      "source": [
        "stop_early_model = tf.keras.callbacks.EarlyStopping(monitor='val_loss', patience=3)\n",
        "history = model.fit([X_train_padded,train_rating,train_pursh], train_target, batch_size=32,epochs=20, validation_data=([X_val_padded,valid_rating,valid_pursh], valid_target),callbacks=[stop_early_model])\n"
      ]
    },
    {
      "cell_type": "code",
      "execution_count": null,
      "metadata": {
        "colab": {
          "base_uri": "https://localhost:8080/",
          "height": 388
        },
        "id": "6ex0jDt3nfTS",
        "outputId": "ff982f1d-6da9-459a-8aea-1600c393f398"
      },
      "outputs": [
        {
          "output_type": "display_data",
          "data": {
            "text/plain": [
              "<Figure size 1152x432 with 2 Axes>"
            ],
            "image/png": "[encoded data removed]"
          },
          "metadata": {
            "needs_background": "light"
          }
        }
      ],
      "source": [
        "plt.figure(figsize=(16, 6))\n",
        "plt.subplot(1, 2, 1)\n",
        "plot_graphs(history, 'acc')\n",
        "plt.subplot(1, 2, 2)\n",
        "plot_graphs(history, 'loss')"
      ]
    },
    {
      "cell_type": "code",
      "source": [
        "model.evaluate([X_test_padded,test_rating,test_pursh], test_target, verbose=2)"
      ],
      "metadata": {
        "colab": {
          "base_uri": "https://localhost:8080/"
        },
        "id": "ZZ7SLnWjh3Rb",
        "outputId": "fd227921-5f6c-441b-f69d-10b524f78e1c"
      },
      "execution_count": null,
      "outputs": [
        {
          "output_type": "stream",
          "name": "stdout",
          "text": [
            "66/66 - 2s - loss: 0.4391 - acc: 0.8190 - 2s/epoch - 28ms/step\n"
          ]
        },
        {
          "output_type": "execute_result",
          "data": {
            "text/plain": [
              "[0.4390980303287506, 0.8190476298332214]"
            ]
          },
          "metadata": {},
          "execution_count": 113
        }
      ]
    }
  ],
  "metadata": {
    "colab": {
      "collapsed_sections": [],
      "provenance": []
    },
    "kernelspec": {
      "display_name": "Python 3",
      "name": "python3"
    },
    "language_info": {
      "name": "python"
    }
  },
  "nbformat": 4,
  "nbformat_minor": 0
}